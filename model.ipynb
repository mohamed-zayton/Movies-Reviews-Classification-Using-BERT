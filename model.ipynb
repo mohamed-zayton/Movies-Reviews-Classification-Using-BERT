{
  "cells": [
    {
      "cell_type": "code",
      "execution_count": 2,
      "metadata": {
        "id": "29mx8NFBGn9y"
      },
      "outputs": [],
      "source": [
        "import pandas as pd\n",
        "from sklearn.model_selection import train_test_split\n",
        "from transformers import BertTokenizer, BertModel\n",
        "import matplotlib.pyplot as plt\n",
        "import nltk\n",
        "from nltk.tokenize import word_tokenize\n",
        "from nltk.tokenize import RegexpTokenizer\n",
        "from nltk.stem import WordNetLemmatizer\n",
        "from nltk.corpus import stopwords\n",
        "import torch\n",
        "from tqdm import tqdm\n",
        "import numpy as np\n",
        "import torch.nn as nn"
      ]
    },
    {
      "cell_type": "code",
      "source": [
        "!pip install transformers\n"
      ],
      "metadata": {
        "id": "fnNiUqdnDH4f",
        "outputId": "48a6cf77-6649-4fd6-8add-8df4543e6234",
        "colab": {
          "base_uri": "https://localhost:8080/"
        }
      },
      "execution_count": 3,
      "outputs": [
        {
          "output_type": "stream",
          "name": "stdout",
          "text": [
            "Looking in indexes: https://pypi.org/simple, https://us-python.pkg.dev/colab-wheels/public/simple/\n",
            "Requirement already satisfied: transformers in /usr/local/lib/python3.7/dist-packages (4.19.2)\n",
            "Requirement already satisfied: regex!=2019.12.17 in /usr/local/lib/python3.7/dist-packages (from transformers) (2019.12.20)\n",
            "Requirement already satisfied: huggingface-hub<1.0,>=0.1.0 in /usr/local/lib/python3.7/dist-packages (from transformers) (0.7.0)\n",
            "Requirement already satisfied: numpy>=1.17 in /usr/local/lib/python3.7/dist-packages (from transformers) (1.21.6)\n",
            "Requirement already satisfied: tqdm>=4.27 in /usr/local/lib/python3.7/dist-packages (from transformers) (4.64.0)\n",
            "Requirement already satisfied: importlib-metadata in /usr/local/lib/python3.7/dist-packages (from transformers) (4.11.3)\n",
            "Requirement already satisfied: tokenizers!=0.11.3,<0.13,>=0.11.1 in /usr/local/lib/python3.7/dist-packages (from transformers) (0.12.1)\n",
            "Requirement already satisfied: requests in /usr/local/lib/python3.7/dist-packages (from transformers) (2.23.0)\n",
            "Requirement already satisfied: filelock in /usr/local/lib/python3.7/dist-packages (from transformers) (3.7.0)\n",
            "Requirement already satisfied: packaging>=20.0 in /usr/local/lib/python3.7/dist-packages (from transformers) (21.3)\n",
            "Requirement already satisfied: pyyaml>=5.1 in /usr/local/lib/python3.7/dist-packages (from transformers) (6.0)\n",
            "Requirement already satisfied: typing-extensions>=3.7.4.3 in /usr/local/lib/python3.7/dist-packages (from huggingface-hub<1.0,>=0.1.0->transformers) (4.2.0)\n",
            "Requirement already satisfied: pyparsing!=3.0.5,>=2.0.2 in /usr/local/lib/python3.7/dist-packages (from packaging>=20.0->transformers) (3.0.9)\n",
            "Requirement already satisfied: zipp>=0.5 in /usr/local/lib/python3.7/dist-packages (from importlib-metadata->transformers) (3.8.0)\n",
            "Requirement already satisfied: chardet<4,>=3.0.2 in /usr/local/lib/python3.7/dist-packages (from requests->transformers) (3.0.4)\n",
            "Requirement already satisfied: urllib3!=1.25.0,!=1.25.1,<1.26,>=1.21.1 in /usr/local/lib/python3.7/dist-packages (from requests->transformers) (1.24.3)\n",
            "Requirement already satisfied: certifi>=2017.4.17 in /usr/local/lib/python3.7/dist-packages (from requests->transformers) (2022.5.18.1)\n",
            "Requirement already satisfied: idna<3,>=2.5 in /usr/local/lib/python3.7/dist-packages (from requests->transformers) (2.10)\n"
          ]
        }
      ]
    },
    {
      "cell_type": "code",
      "source": [
        "from google.colab import drive\n",
        "drive.mount('/content/drive')"
      ],
      "metadata": {
        "colab": {
          "base_uri": "https://localhost:8080/"
        },
        "id": "HLppk0_YtIpe",
        "outputId": "36b3fdbc-27bb-4c24-9f94-3ef2817bc2e3"
      },
      "execution_count": 6,
      "outputs": [
        {
          "output_type": "stream",
          "name": "stdout",
          "text": [
            "Mounted at /content/drive\n"
          ]
        }
      ]
    },
    {
      "cell_type": "markdown",
      "metadata": {
        "id": "BwNAi0nJGn93"
      },
      "source": [
        "# 1.Data Split"
      ]
    },
    {
      "cell_type": "code",
      "execution_count": 4,
      "metadata": {
        "id": "IJWbL1m5Gn94"
      },
      "outputs": [],
      "source": [
        "PATH = '/content/drive/MyDrive/PR/data/'"
      ]
    },
    {
      "cell_type": "code",
      "source": [
        "df = pd.read_csv(PATH + 'IMDB Dataset.csv')\n",
        "df.head()"
      ],
      "metadata": {
        "colab": {
          "base_uri": "https://localhost:8080/",
          "height": 0
        },
        "id": "2BSrQXsewWVu",
        "outputId": "1a1b6955-4864-46b8-a81e-d44176172b0f"
      },
      "execution_count": 5,
      "outputs": [
        {
          "output_type": "execute_result",
          "data": {
            "text/plain": [
              "                                              review sentiment\n",
              "0  One of the other reviewers has mentioned that ...  positive\n",
              "1  A wonderful little production. <br /><br />The...  positive\n",
              "2  I thought this was a wonderful way to spend ti...  positive\n",
              "3  Basically there's a family where a little boy ...  negative\n",
              "4  Petter Mattei's \"Love in the Time of Money\" is...  positive"
            ],
            "text/html": [
              "\n",
              "  <div id=\"df-b04bbab2-57d6-4799-b0ce-09196c4a3ffc\">\n",
              "    <div class=\"colab-df-container\">\n",
              "      <div>\n",
              "<style scoped>\n",
              "    .dataframe tbody tr th:only-of-type {\n",
              "        vertical-align: middle;\n",
              "    }\n",
              "\n",
              "    .dataframe tbody tr th {\n",
              "        vertical-align: top;\n",
              "    }\n",
              "\n",
              "    .dataframe thead th {\n",
              "        text-align: right;\n",
              "    }\n",
              "</style>\n",
              "<table border=\"1\" class=\"dataframe\">\n",
              "  <thead>\n",
              "    <tr style=\"text-align: right;\">\n",
              "      <th></th>\n",
              "      <th>review</th>\n",
              "      <th>sentiment</th>\n",
              "    </tr>\n",
              "  </thead>\n",
              "  <tbody>\n",
              "    <tr>\n",
              "      <th>0</th>\n",
              "      <td>One of the other reviewers has mentioned that ...</td>\n",
              "      <td>positive</td>\n",
              "    </tr>\n",
              "    <tr>\n",
              "      <th>1</th>\n",
              "      <td>A wonderful little production. &lt;br /&gt;&lt;br /&gt;The...</td>\n",
              "      <td>positive</td>\n",
              "    </tr>\n",
              "    <tr>\n",
              "      <th>2</th>\n",
              "      <td>I thought this was a wonderful way to spend ti...</td>\n",
              "      <td>positive</td>\n",
              "    </tr>\n",
              "    <tr>\n",
              "      <th>3</th>\n",
              "      <td>Basically there's a family where a little boy ...</td>\n",
              "      <td>negative</td>\n",
              "    </tr>\n",
              "    <tr>\n",
              "      <th>4</th>\n",
              "      <td>Petter Mattei's \"Love in the Time of Money\" is...</td>\n",
              "      <td>positive</td>\n",
              "    </tr>\n",
              "  </tbody>\n",
              "</table>\n",
              "</div>\n",
              "      <button class=\"colab-df-convert\" onclick=\"convertToInteractive('df-b04bbab2-57d6-4799-b0ce-09196c4a3ffc')\"\n",
              "              title=\"Convert this dataframe to an interactive table.\"\n",
              "              style=\"display:none;\">\n",
              "        \n",
              "  <svg xmlns=\"http://www.w3.org/2000/svg\" height=\"24px\"viewBox=\"0 0 24 24\"\n",
              "       width=\"24px\">\n",
              "    <path d=\"M0 0h24v24H0V0z\" fill=\"none\"/>\n",
              "    <path d=\"M18.56 5.44l.94 2.06.94-2.06 2.06-.94-2.06-.94-.94-2.06-.94 2.06-2.06.94zm-11 1L8.5 8.5l.94-2.06 2.06-.94-2.06-.94L8.5 2.5l-.94 2.06-2.06.94zm10 10l.94 2.06.94-2.06 2.06-.94-2.06-.94-.94-2.06-.94 2.06-2.06.94z\"/><path d=\"M17.41 7.96l-1.37-1.37c-.4-.4-.92-.59-1.43-.59-.52 0-1.04.2-1.43.59L10.3 9.45l-7.72 7.72c-.78.78-.78 2.05 0 2.83L4 21.41c.39.39.9.59 1.41.59.51 0 1.02-.2 1.41-.59l7.78-7.78 2.81-2.81c.8-.78.8-2.07 0-2.86zM5.41 20L4 18.59l7.72-7.72 1.47 1.35L5.41 20z\"/>\n",
              "  </svg>\n",
              "      </button>\n",
              "      \n",
              "  <style>\n",
              "    .colab-df-container {\n",
              "      display:flex;\n",
              "      flex-wrap:wrap;\n",
              "      gap: 12px;\n",
              "    }\n",
              "\n",
              "    .colab-df-convert {\n",
              "      background-color: #E8F0FE;\n",
              "      border: none;\n",
              "      border-radius: 50%;\n",
              "      cursor: pointer;\n",
              "      display: none;\n",
              "      fill: #1967D2;\n",
              "      height: 32px;\n",
              "      padding: 0 0 0 0;\n",
              "      width: 32px;\n",
              "    }\n",
              "\n",
              "    .colab-df-convert:hover {\n",
              "      background-color: #E2EBFA;\n",
              "      box-shadow: 0px 1px 2px rgba(60, 64, 67, 0.3), 0px 1px 3px 1px rgba(60, 64, 67, 0.15);\n",
              "      fill: #174EA6;\n",
              "    }\n",
              "\n",
              "    [theme=dark] .colab-df-convert {\n",
              "      background-color: #3B4455;\n",
              "      fill: #D2E3FC;\n",
              "    }\n",
              "\n",
              "    [theme=dark] .colab-df-convert:hover {\n",
              "      background-color: #434B5C;\n",
              "      box-shadow: 0px 1px 3px 1px rgba(0, 0, 0, 0.15);\n",
              "      filter: drop-shadow(0px 1px 2px rgba(0, 0, 0, 0.3));\n",
              "      fill: #FFFFFF;\n",
              "    }\n",
              "  </style>\n",
              "\n",
              "      <script>\n",
              "        const buttonEl =\n",
              "          document.querySelector('#df-b04bbab2-57d6-4799-b0ce-09196c4a3ffc button.colab-df-convert');\n",
              "        buttonEl.style.display =\n",
              "          google.colab.kernel.accessAllowed ? 'block' : 'none';\n",
              "\n",
              "        async function convertToInteractive(key) {\n",
              "          const element = document.querySelector('#df-b04bbab2-57d6-4799-b0ce-09196c4a3ffc');\n",
              "          const dataTable =\n",
              "            await google.colab.kernel.invokeFunction('convertToInteractive',\n",
              "                                                     [key], {});\n",
              "          if (!dataTable) return;\n",
              "\n",
              "          const docLinkHtml = 'Like what you see? Visit the ' +\n",
              "            '<a target=\"_blank\" href=https://colab.research.google.com/notebooks/data_table.ipynb>data table notebook</a>'\n",
              "            + ' to learn more about interactive tables.';\n",
              "          element.innerHTML = '';\n",
              "          dataTable['output_type'] = 'display_data';\n",
              "          await google.colab.output.renderOutput(dataTable, element);\n",
              "          const docLink = document.createElement('div');\n",
              "          docLink.innerHTML = docLinkHtml;\n",
              "          element.appendChild(docLink);\n",
              "        }\n",
              "      </script>\n",
              "    </div>\n",
              "  </div>\n",
              "  "
            ]
          },
          "metadata": {},
          "execution_count": 5
        }
      ]
    },
    {
      "cell_type": "code",
      "execution_count": 6,
      "metadata": {
        "id": "Lc7X05J5Gn96",
        "colab": {
          "base_uri": "https://localhost:8080/",
          "height": 0
        },
        "outputId": "1ebb3733-75ae-4ec2-f58d-c6b1fde90379"
      },
      "outputs": [
        {
          "output_type": "execute_result",
          "data": {
            "text/plain": [
              "<matplotlib.axes._subplots.AxesSubplot at 0x7f77d7dc7290>"
            ]
          },
          "metadata": {},
          "execution_count": 6
        },
        {
          "output_type": "display_data",
          "data": {
            "text/plain": [
              "<Figure size 432x288 with 1 Axes>"
            ],
            "image/png": "[encoded data removed]"
          },
          "metadata": {
            "needs_background": "light"
          }
        }
      ],
      "source": [
        "df.groupby(['sentiment']).size().plot.bar()\n"
      ]
    },
    {
      "cell_type": "code",
      "execution_count": 7,
      "metadata": {
        "id": "IAuSGNlEGn96"
      },
      "outputs": [],
      "source": [
        "labels = {'positive' : 0,\n",
        "         'negative' : 1}"
      ]
    },
    {
      "cell_type": "code",
      "execution_count": 8,
      "metadata": {
        "id": "S2dnBu1DGn97"
      },
      "outputs": [],
      "source": [
        "df_train_val, df_test = train_test_split(df, test_size=0.2, random_state=42, stratify=df['sentiment'])"
      ]
    },
    {
      "cell_type": "code",
      "execution_count": 9,
      "metadata": {
        "id": "fu5G1LjOGn97"
      },
      "outputs": [],
      "source": [
        "df_train, df_val = train_test_split(df_train_val, test_size=0.1, random_state=42, stratify=df_train_val['sentiment'])"
      ]
    },
    {
      "cell_type": "markdown",
      "metadata": {
        "id": "9adCbtXnGn98"
      },
      "source": [
        "# 2.Text Pre-processing\n"
      ]
    },
    {
      "cell_type": "code",
      "execution_count": 10,
      "metadata": {
        "id": "JYVI2znyGn99",
        "colab": {
          "base_uri": "https://localhost:8080/"
        },
        "outputId": "19be37ae-d440-46ea-905f-4f39d5981077"
      },
      "outputs": [
        {
          "output_type": "execute_result",
          "data": {
            "text/plain": [
              "device(type='cpu')"
            ]
          },
          "metadata": {},
          "execution_count": 10
        }
      ],
      "source": [
        "BATCH_SIZE = 8\n",
        "EPOCHS  = 2\n",
        "NUM_WORKERS = 2\n",
        "use_cuda = torch.cuda.is_available()\n",
        "DEVICE = torch.device(\"cpu\")\n",
        "DEVICE"
      ]
    },
    {
      "cell_type": "code",
      "source": [
        "nltk.download('stopwords')\n",
        "nltk.download('wordnet')"
      ],
      "metadata": {
        "id": "qs9AcPFkLO-r",
        "outputId": "0a8bd877-4762-4fa4-c329-d50f7ecb53f3",
        "colab": {
          "base_uri": "https://localhost:8080/"
        }
      },
      "execution_count": 11,
      "outputs": [
        {
          "output_type": "stream",
          "name": "stdout",
          "text": [
            "[nltk_data] Downloading package stopwords to /root/nltk_data...\n",
            "[nltk_data]   Package stopwords is already up-to-date!\n",
            "[nltk_data] Downloading package wordnet to /root/nltk_data...\n",
            "[nltk_data]   Package wordnet is already up-to-date!\n"
          ]
        },
        {
          "output_type": "execute_result",
          "data": {
            "text/plain": [
              "True"
            ]
          },
          "metadata": {},
          "execution_count": 11
        }
      ]
    },
    {
      "cell_type": "code",
      "execution_count": 12,
      "metadata": {
        "id": "e-UHC3HvGn99"
      },
      "outputs": [],
      "source": [
        "class Dataset(torch.utils.data.Dataset):\n",
        "    def __init__(self, df):\n",
        "        self.df = df\n",
        "        self.lemmatizer = WordNetLemmatizer()\n",
        "        self.tokenizer = RegexpTokenizer(r'\\w+')\n",
        "        self.bert_tokenizer = BertTokenizer.from_pretrained('bert-base-cased')\n",
        "    def __len__(self):\n",
        "        return len(self.df)\n",
        "\n",
        "    def __getitem__(self, idx):\n",
        "        row = df.iloc[idx]\n",
        "        sentence = row['review']\n",
        "        y = labels[row['sentiment']]\n",
        "        sentence = sentence.lower()\n",
        "        tokens = self.tokenizer.tokenize(sentence)\n",
        "        filtered_words = [w for w in tokens if not w in stopwords.words('english')]\n",
        "        lemmaized = self.lemmatizer.lemmatize(\" \".join(filtered_words))\n",
        "        X = self.bert_tokenizer(lemmaized, padding='max_length', max_length = 512, truncation=True, return_tensors=\"pt\")\n",
        "        return X, y"
      ]
    },
    {
      "cell_type": "code",
      "execution_count": 13,
      "metadata": {
        "id": "eVTWlrl5Gn9-",
        "outputId": "7404b84a-b552-42fa-bfc2-06a9ca04a788",
        "colab": {
          "base_uri": "https://localhost:8080/"
        }
      },
      "outputs": [
        {
          "output_type": "stream",
          "name": "stdout",
          "text": [
            "36000\n"
          ]
        }
      ],
      "source": [
        "train_dataset = Dataset(df_train[:10])\n",
        "test_dataset = Dataset(df_test[:20])\n",
        "val_dataset = Dataset(df_val[:10])\n",
        "\n",
        "print(len(df_train))"
      ]
    },
    {
      "cell_type": "code",
      "execution_count": 14,
      "metadata": {
        "id": "l4MABXCpGn9-"
      },
      "outputs": [],
      "source": [
        "train_dataloader = torch.utils.data.DataLoader(train_dataset, batch_size=BATCH_SIZE, shuffle=True, num_workers=NUM_WORKERS)\n",
        "val_dataloader = torch.utils.data.DataLoader(val_dataset, batch_size=BATCH_SIZE, num_workers=NUM_WORKERS)\n",
        "test_dataloader = torch.utils.data.DataLoader(test_dataset, batch_size=BATCH_SIZE, num_workers=NUM_WORKERS)"
      ]
    },
    {
      "cell_type": "code",
      "execution_count": 15,
      "metadata": {
        "id": "7-3ThMxnGn9_",
        "outputId": "fc9c7190-18c8-453f-81a5-dd516537e163",
        "colab": {
          "base_uri": "https://localhost:8080/"
        }
      },
      "outputs": [
        {
          "output_type": "execute_result",
          "data": {
            "text/plain": [
              "2"
            ]
          },
          "metadata": {},
          "execution_count": 15
        }
      ],
      "source": [
        "len(train_dataloader)"
      ]
    },
    {
      "cell_type": "markdown",
      "metadata": {
        "id": "ji90plBrGn-A"
      },
      "source": [
        "# 3.Classification using BERT"
      ]
    },
    {
      "cell_type": "code",
      "execution_count": 16,
      "metadata": {
        "id": "QcSFwC7EGn-A"
      },
      "outputs": [],
      "source": [
        "class BertClassifier(nn.Module):\n",
        "  def __init__(self, h1, h2, h3, h4, dropout=0.5, ):\n",
        "    super(BertClassifier, self).__init__()\n",
        "    self.bert = BertModel.from_pretrained('bert-base-cased', num_labels = 2, )\n",
        "    self.dropout = nn.Dropout(dropout)\n",
        "    self.l1 = nn.Linear(768, h1)\n",
        "    self.l2 = nn.Linear(h1, h2)\n",
        "    self.l3 = nn.Linear(h2, h3)\n",
        "    self.l4 = nn.Linear(h3, h4)\n",
        "    self.output = nn.Linear(h4, 1)\n",
        "\n",
        "  def forward(self, input_id, mask):\n",
        "    _, pooled_output = self.bert(input_ids= input_id, attention_mask=mask,return_dict=False)\n",
        "    x = self.dropout(pooled_output)\n",
        "    x = self.l1(x)\n",
        "    x = self.l2(x)\n",
        "    x = self.l3(x)\n",
        "    x = self.l4(x)\n",
        "    return nn.Sigmoid()(self.output(x))"
      ]
    },
    {
      "cell_type": "code",
      "source": [
        "def run_model(data_loader, optimizer, criterion, device, train = True):\n",
        "\n",
        "  if train:\n",
        "    model.train(mode=True)\n",
        "  else:\n",
        "    model.train(mode = False)\n",
        "\n",
        "  total_acc = 0\n",
        "  total_loss = 0\n",
        "\n",
        "  for sample, label in tqdm(data_loader):\n",
        "    \n",
        "\n",
        "    label = label.to(device)\n",
        "    mask = sample['attention_mask'].to(device)\n",
        "    input_id = sample['input_ids'].squeeze(1).to(device)\n",
        "    output = model(input_id, mask)\n",
        "    batch_loss = criterion(output.flatten(), label.to(torch.float32))\n",
        "    total_loss += batch_loss.item()\n",
        "    \n",
        "    acc = (output.argmax(dim=1) == label).sum().item()\n",
        "    total_acc += acc\n",
        "\n",
        "    if train:\n",
        "      model.zero_grad()\n",
        "      batch_loss.backward()\n",
        "      optimizer.step()\n",
        "\n",
        "  return total_loss, total_acc\n"
      ],
      "metadata": {
        "id": "pa6OPBp2-puj"
      },
      "execution_count": 17,
      "outputs": []
    },
    {
      "cell_type": "code",
      "execution_count": 18,
      "metadata": {
        "id": "zfSICSDdGn-A"
      },
      "outputs": [],
      "source": [
        "def train(model, train_dataloader, val_dataloader, optimizer, criterion, device):\n",
        "\n",
        "\n",
        "    \n",
        "  total_loss_train, total_acc_train = run_model(train_dataloader, optimizer, criterion, device)\n",
        "\n",
        "  with torch.no_grad():\n",
        "\n",
        "    total_loss_val, total_acc_val = run_model(val_dataloader, optimizer, criterion, device, False)\n",
        "\n",
        "  return total_acc_train, total_loss_train, total_acc_val, total_loss_val\n",
        "          \n",
        "  "
      ]
    },
    {
      "cell_type": "code",
      "source": [
        "LR = 1e-3"
      ],
      "metadata": {
        "id": "EcchHzqDZ7Zk"
      },
      "execution_count": 19,
      "outputs": []
    },
    {
      "cell_type": "code",
      "source": [
        "model = BertClassifier(512, 256, 128, 64)\n",
        "model = model.to(DEVICE)"
      ],
      "metadata": {
        "id": "wmPgyOXsZ3fK",
        "outputId": "5bbec534-8220-44c2-a96f-f823456c7312",
        "colab": {
          "base_uri": "https://localhost:8080/"
        }
      },
      "execution_count": 20,
      "outputs": [
        {
          "output_type": "stream",
          "name": "stderr",
          "text": [
            "Some weights of the model checkpoint at bert-base-cased were not used when initializing BertModel: ['cls.predictions.transform.LayerNorm.weight', 'cls.predictions.transform.LayerNorm.bias', 'cls.seq_relationship.bias', 'cls.predictions.decoder.weight', 'cls.seq_relationship.weight', 'cls.predictions.bias', 'cls.predictions.transform.dense.bias', 'cls.predictions.transform.dense.weight']\n",
            "- This IS expected if you are initializing BertModel from the checkpoint of a model trained on another task or with another architecture (e.g. initializing a BertForSequenceClassification model from a BertForPreTraining model).\n",
            "- This IS NOT expected if you are initializing BertModel from the checkpoint of a model that you expect to be exactly identical (initializing a BertForSequenceClassification model from a BertForSequenceClassification model).\n"
          ]
        }
      ]
    },
    {
      "cell_type": "code",
      "source": [
        "criterion = nn.BCELoss()\n",
        "optimizer = torch.optim.Adam(model.parameters(), lr= LR)"
      ],
      "metadata": {
        "id": "b7PSgFKgZZXG"
      },
      "execution_count": 21,
      "outputs": []
    },
    {
      "cell_type": "code",
      "source": [
        "print(train(model, train_dataloader, val_dataloader, optimizer, criterion, DEVICE))"
      ],
      "metadata": {
        "id": "aKwpkZ1zZnky",
        "outputId": "3bdaaa4c-c70a-4fd1-daec-8830018344c4",
        "colab": {
          "base_uri": "https://localhost:8080/"
        }
      },
      "execution_count": 27,
      "outputs": [
        {
          "output_type": "stream",
          "name": "stderr",
          "text": [
            "100%|██████████| 7/7 [03:56<00:00, 33.77s/it]\n",
            "100%|██████████| 2/2 [00:21<00:00, 10.58s/it]"
          ]
        },
        {
          "output_type": "stream",
          "name": "stdout",
          "text": [
            "(23, 5.040403962135315, 7, 1.5467511415481567)\n"
          ]
        },
        {
          "output_type": "stream",
          "name": "stderr",
          "text": [
            "\n"
          ]
        }
      ]
    },
    {
      "cell_type": "code",
      "source": [
        "# Load Model \n",
        "model = torch.load(PATH + 'model.pth')"
      ],
      "metadata": {
        "id": "4VqxuyIVgLV_"
      },
      "execution_count": null,
      "outputs": []
    },
    {
      "cell_type": "code",
      "source": [
        ""
      ],
      "metadata": {
        "id": "37KFbcGaZns0"
      },
      "execution_count": null,
      "outputs": []
    },
    {
      "cell_type": "code",
      "source": [
        ""
      ],
      "metadata": {
        "id": "f7bZQZAqZnx0"
      },
      "execution_count": null,
      "outputs": []
    },
    {
      "cell_type": "markdown",
      "metadata": {
        "id": "HQshG2SEGn-A"
      },
      "source": [
        "# 4.Validation and Hyperparameter Tuning"
      ]
    },
    {
      "cell_type": "code",
      "execution_count": 39,
      "metadata": {
        "id": "3qX2QakfGn-A",
        "outputId": "2fe1d76f-34aa-4286-bfa3-34ac92fb25c6",
        "colab": {
          "base_uri": "https://localhost:8080/",
          "height": 685
        }
      },
      "outputs": [
        {
          "output_type": "stream",
          "name": "stderr",
          "text": [
            "\r  0%|          | 0/7 [00:00<?, ?it/s]Exception ignored in: <function _MultiProcessingDataLoaderIter.__del__ at 0x7f14ae23f170>\n",
            "Traceback (most recent call last):\n",
            "  File \"/usr/local/lib/python3.7/dist-packages/torch/utils/data/dataloader.py\", line 1358, in __del__\n",
            "    self._shutdown_workers()\n",
            "  File \"/usr/local/lib/python3.7/dist-packages/torch/utils/data/dataloader.py\", line 1341, in _shutdown_workers\n",
            "    if w.is_alive():\n",
            "  File \"/usr/lib/python3.7/multiprocessing/process.py\", line 151, in is_alive\n",
            "    assert self._parent_pid == os.getpid(), 'can only test a child process'\n",
            "AssertionError: can only test a child process\n",
            "Exception ignored in: <function _MultiProcessingDataLoaderIter.__del__ at 0x7f14ae23f170>\n",
            "Traceback (most recent call last):\n",
            "  File \"/usr/local/lib/python3.7/dist-packages/torch/utils/data/dataloader.py\", line 1358, in __del__\n",
            "    self._shutdown_workers()\n",
            "  File \"/usr/local/lib/python3.7/dist-packages/torch/utils/data/dataloader.py\", line 1341, in _shutdown_workers\n",
            "    if w.is_alive():\n",
            "  File \"/usr/lib/python3.7/multiprocessing/process.py\", line 151, in is_alive\n",
            "    assert self._parent_pid == os.getpid(), 'can only test a child process'\n",
            "AssertionError: can only test a child process\n",
            " 86%|████████▌ | 6/7 [04:07<00:41, 41.26s/it]\n"
          ]
        },
        {
          "output_type": "error",
          "ename": "RuntimeError",
          "evalue": "ignored",
          "traceback": [
            "\u001b[0;31m---------------------------------------------------------------------------\u001b[0m",
            "\u001b[0;31mRuntimeError\u001b[0m                              Traceback (most recent call last)",
            "\u001b[0;32m<ipython-input-39-53b8bc21e89b>\u001b[0m in \u001b[0;36m<module>\u001b[0;34m()\u001b[0m\n\u001b[1;32m     14\u001b[0m \u001b[0;32mfor\u001b[0m \u001b[0mi\u001b[0m \u001b[0;32min\u001b[0m \u001b[0mrange\u001b[0m\u001b[0;34m(\u001b[0m\u001b[0mEPOCHS\u001b[0m\u001b[0;34m)\u001b[0m\u001b[0;34m:\u001b[0m\u001b[0;34m\u001b[0m\u001b[0;34m\u001b[0m\u001b[0m\n\u001b[1;32m     15\u001b[0m \u001b[0;34m\u001b[0m\u001b[0m\n\u001b[0;32m---> 16\u001b[0;31m   \u001b[0mtrain_acc\u001b[0m\u001b[0;34m,\u001b[0m \u001b[0mtrain_loss\u001b[0m\u001b[0;34m,\u001b[0m \u001b[0mval_acc\u001b[0m\u001b[0;34m,\u001b[0m \u001b[0mval_loss\u001b[0m \u001b[0;34m=\u001b[0m \u001b[0mtrain\u001b[0m\u001b[0;34m(\u001b[0m\u001b[0mmodel\u001b[0m\u001b[0;34m,\u001b[0m \u001b[0mtrain_dataloader\u001b[0m\u001b[0;34m,\u001b[0m \u001b[0mval_dataloader\u001b[0m\u001b[0;34m,\u001b[0m \u001b[0moptimizer\u001b[0m\u001b[0;34m,\u001b[0m \u001b[0mcriterion\u001b[0m\u001b[0;34m,\u001b[0m \u001b[0mDEVICE\u001b[0m\u001b[0;34m)\u001b[0m\u001b[0;34m\u001b[0m\u001b[0;34m\u001b[0m\u001b[0m\n\u001b[0m\u001b[1;32m     17\u001b[0m \u001b[0;34m\u001b[0m\u001b[0m\n\u001b[1;32m     18\u001b[0m   \u001b[0;32mif\u001b[0m \u001b[0mval_loss\u001b[0m \u001b[0;34m<\u001b[0m \u001b[0mbest_loss\u001b[0m\u001b[0;34m:\u001b[0m\u001b[0;34m\u001b[0m\u001b[0;34m\u001b[0m\u001b[0m\n",
            "\u001b[0;32m<ipython-input-22-fe04a400e867>\u001b[0m in \u001b[0;36mtrain\u001b[0;34m(model, train_dataloader, val_dataloader, optimizer, criterion, device)\u001b[0m\n\u001b[1;32m     13\u001b[0m     \u001b[0minput_id\u001b[0m \u001b[0;34m=\u001b[0m \u001b[0mtrain_input\u001b[0m\u001b[0;34m[\u001b[0m\u001b[0;34m'input_ids'\u001b[0m\u001b[0;34m]\u001b[0m\u001b[0;34m.\u001b[0m\u001b[0msqueeze\u001b[0m\u001b[0;34m(\u001b[0m\u001b[0;36m1\u001b[0m\u001b[0;34m)\u001b[0m\u001b[0;34m.\u001b[0m\u001b[0mto\u001b[0m\u001b[0;34m(\u001b[0m\u001b[0mdevice\u001b[0m\u001b[0;34m)\u001b[0m\u001b[0;34m\u001b[0m\u001b[0;34m\u001b[0m\u001b[0m\n\u001b[1;32m     14\u001b[0m     \u001b[0moutput\u001b[0m \u001b[0;34m=\u001b[0m \u001b[0mmodel\u001b[0m\u001b[0;34m(\u001b[0m\u001b[0minput_id\u001b[0m\u001b[0;34m,\u001b[0m \u001b[0mmask\u001b[0m\u001b[0;34m)\u001b[0m\u001b[0;34m\u001b[0m\u001b[0;34m\u001b[0m\u001b[0m\n\u001b[0;32m---> 15\u001b[0;31m     \u001b[0mbatch_loss\u001b[0m \u001b[0;34m=\u001b[0m \u001b[0mcriterion\u001b[0m\u001b[0;34m(\u001b[0m\u001b[0moutput\u001b[0m\u001b[0;34m.\u001b[0m\u001b[0mreshape\u001b[0m\u001b[0;34m(\u001b[0m\u001b[0;34m(\u001b[0m\u001b[0mBATCH_SIZE\u001b[0m\u001b[0;34m,\u001b[0m\u001b[0;34m)\u001b[0m\u001b[0;34m)\u001b[0m\u001b[0;34m,\u001b[0m \u001b[0mtrain_label\u001b[0m\u001b[0;34m.\u001b[0m\u001b[0mto\u001b[0m\u001b[0;34m(\u001b[0m\u001b[0mtorch\u001b[0m\u001b[0;34m.\u001b[0m\u001b[0mfloat32\u001b[0m\u001b[0;34m)\u001b[0m\u001b[0;34m)\u001b[0m\u001b[0;34m\u001b[0m\u001b[0;34m\u001b[0m\u001b[0m\n\u001b[0m\u001b[1;32m     16\u001b[0m     \u001b[0mtotal_loss_train\u001b[0m \u001b[0;34m+=\u001b[0m \u001b[0mbatch_loss\u001b[0m\u001b[0;34m.\u001b[0m\u001b[0mitem\u001b[0m\u001b[0;34m(\u001b[0m\u001b[0;34m)\u001b[0m\u001b[0;34m\u001b[0m\u001b[0;34m\u001b[0m\u001b[0m\n\u001b[1;32m     17\u001b[0m \u001b[0;34m\u001b[0m\u001b[0m\n",
            "\u001b[0;31mRuntimeError\u001b[0m: shape '[8]' is invalid for input of size 2"
          ]
        }
      ],
      "source": [
        "learning_rates = [0.1, 0.01, 0.001, 0.0001]\n",
        "EPOCHS = 2\n",
        "\n",
        "optimizer = torch.optim.Adam(model.parameters(), lr= LR)\n",
        "\n",
        "best_loss = float('inf')\n",
        "best_acc = None\n",
        "best_params = None\n",
        "\n",
        "train_losses = []\n",
        "val_losses = []\n",
        "\n",
        "for i in range(EPOCHS):\n",
        "\n",
        "  train_acc, train_loss, val_acc, val_loss = train(model, train_dataloader, val_dataloader, optimizer, criterion, DEVICE)\n",
        "\n",
        "  if val_loss < best_loss:\n",
        "\n",
        "    best_loss, best_acc, best_params = val_loss, val_acc, model.parameters()\n",
        "\n",
        "  train_losses.append(train_loss)\n",
        "  val_losses.append(val_loss) \n",
        "\n",
        "x = [i+1 for i in range(EPOCHS)]\n",
        "\n",
        "plt.plot(x, train_losses, label=\"Train loss\")\n",
        "plt.plot(x, val_losses, label = \"Validation loss\")\n",
        "plt.legend()\n",
        "plt.xlabel(\"epochs\")\n",
        "plt.ylabel(\"Loss\")\n",
        "plt.title(\"Loss vs epoch\")\n",
        "    \n",
        "\n",
        "\n"
      ]
    },
    {
      "cell_type": "markdown",
      "source": [
        "##Tuning learning rate"
      ],
      "metadata": {
        "id": "YydJXIVHwFXS"
      }
    },
    {
      "cell_type": "code",
      "source": [
        "class Params:\n",
        "\n",
        "  def __init__(self):\n",
        "    self.losses = []\n",
        "    self.accs = []\n",
        "    self.params = []\n",
        "\n",
        "  def update(self, loss, acc, param):\n",
        "\n",
        "    self.losses.append(loss)\n",
        "    self.accs.append(acc)\n",
        "    self.params.append(param)\n",
        "\n",
        "  def get_params(self):\n",
        "\n",
        "    return self.losses, self.accs, self.params"
      ],
      "metadata": {
        "id": "ZBsvnxkCxuNQ"
      },
      "execution_count": 22,
      "outputs": []
    },
    {
      "cell_type": "code",
      "execution_count": 24,
      "metadata": {
        "id": "V5p9UVAwGn-A",
        "colab": {
          "base_uri": "https://localhost:8080/",
          "height": 486
        },
        "outputId": "f12d9bd3-0cbe-4eed-9ba0-75b1419775ce"
      },
      "outputs": [
        {
          "output_type": "stream",
          "name": "stderr",
          "text": [
            "100%|██████████| 2/2 [01:11<00:00, 35.54s/it]\n",
            "100%|██████████| 2/2 [00:22<00:00, 11.43s/it]\n",
            "100%|██████████| 2/2 [01:09<00:00, 34.51s/it]\n",
            "100%|██████████| 2/2 [00:20<00:00, 10.44s/it]\n",
            "100%|██████████| 2/2 [01:06<00:00, 33.39s/it]\n",
            "100%|██████████| 2/2 [00:20<00:00, 10.42s/it]\n",
            "100%|██████████| 2/2 [01:07<00:00, 33.73s/it]\n",
            "100%|██████████| 2/2 [00:20<00:00, 10.46s/it]\n"
          ]
        },
        {
          "output_type": "display_data",
          "data": {
            "text/plain": [
              "<Figure size 432x288 with 2 Axes>"
            ],
            "image/png": "[encoded data removed]"
          },
          "metadata": {
            "needs_background": "light"
          }
        },
        {
          "output_type": "stream",
          "name": "stdout",
          "text": [
            "Best loss: 1\n",
            "Best accuracy: 2\n",
            "Best learning rate: 0\n"
          ]
        }
      ],
      "source": [
        "learning_rates = [0.1, 0.01]\n",
        "EPOCHS = 2\n",
        "\n",
        "params = Params()\n",
        "best_losses = [float('inf')]*len(learning_rates)\n",
        "\n",
        "params.update(1, 2, model.parameters())\n",
        "\n",
        "\n",
        "fig, axs = plt.subplots(nrows = 1, ncols = len(learning_rates))\n",
        "\n",
        "for i, LR in enumerate(learning_rates):\n",
        "\n",
        "  train_losses = []\n",
        "  val_losses = []\n",
        "\n",
        "  \n",
        "  best_accs = None\n",
        "  best_params = None\n",
        "  optimizer = torch.optim.Adam(model.parameters(), lr= LR)\n",
        "  for j in range(EPOCHS):\n",
        "\n",
        "    train_acc, train_loss, val_acc, val_loss = train(model, train_dataloader, val_dataloader, optimizer, criterion, DEVICE)\n",
        "\n",
        "    if val_loss < best_losses[i]:\n",
        "\n",
        "      best_loss, best_acc, best_params = val_loss, val_acc, model.parameters()\n",
        "\n",
        "    train_losses.append(train_loss)\n",
        "    val_losses.append(val_loss) \n",
        "\n",
        "  \n",
        "\n",
        "  x = [i+1 for i in range(EPOCHS)]\n",
        "  \n",
        "  axs[i].plot(x, train_losses, label=\"Train loss\")\n",
        "  axs[i].plot(x, val_losses, label = \"Validation loss\", color = \"r\")\n",
        "  axs[i].legend()\n",
        "  axs[i].set_xlabel(\"epochs\")\n",
        "  axs[i].set_ylabel(\"Loss\")\n",
        "  axs[i].set_title(f\"Loss vs epoch with learning rate = {LR}\")\n",
        "  axs[i].grid(True)\n",
        "\n",
        "  \n",
        "\n",
        "  params.update(best_loss, best_acc, best_params)\n",
        "\n",
        "losses, accs, _ = params.get_params()\n",
        "\n",
        "best_loss = min(losses)\n",
        "best_acc = min(accs)\n",
        "best_lr = np.argmin(losses)\n",
        "\n",
        "plt.show()\n",
        "\n",
        "print(f'Best loss: {best_loss}')\n",
        "print(f'Best accuracy: {best_acc}')\n",
        "print(f'Best learning rate: {best_lr+1}')\n"
      ]
    },
    {
      "cell_type": "markdown",
      "metadata": {
        "id": "dvgAS0eIGn-B"
      },
      "source": [
        "# 5.Checking Pre-processing Importance"
      ]
    },
    {
      "cell_type": "code",
      "execution_count": null,
      "metadata": {
        "id": "X7oSPnlGGn-B"
      },
      "outputs": [],
      "source": [
        ""
      ]
    },
    {
      "cell_type": "code",
      "execution_count": null,
      "metadata": {
        "id": "gQOnqqSYGn-B"
      },
      "outputs": [],
      "source": [
        ""
      ]
    },
    {
      "cell_type": "code",
      "execution_count": null,
      "metadata": {
        "id": "CPTYbin5Gn-B"
      },
      "outputs": [],
      "source": [
        ""
      ]
    },
    {
      "cell_type": "markdown",
      "metadata": {
        "id": "J77E86iFGn-B"
      },
      "source": [
        "# 7.Bonus"
      ]
    },
    {
      "cell_type": "code",
      "execution_count": null,
      "metadata": {
        "id": "x4fBldJZGn-B"
      },
      "outputs": [],
      "source": [
        ""
      ]
    },
    {
      "cell_type": "code",
      "execution_count": null,
      "metadata": {
        "id": "Etf6tw5OGn-C"
      },
      "outputs": [],
      "source": [
        ""
      ]
    }
  ],
  "metadata": {
    "interpreter": {
      "hash": "c20b7c458658bee694630567ba3e0a0589b3365f748196e154460478b4d51f10"
    },
    "kernelspec": {
      "display_name": "Python 3.9.7 ('base')",
      "language": "python",
      "name": "python3"
    },
    "language_info": {
      "codemirror_mode": {
        "name": "ipython",
        "version": 3
      },
      "file_extension": ".py",
      "mimetype": "text/x-python",
      "name": "python",
      "nbconvert_exporter": "python",
      "pygments_lexer": "ipython3",
      "version": "3.9.7"
    },
    "orig_nbformat": 4,
    "colab": {
      "name": "model_(1).ipynb",
      "provenance": [],
      "collapsed_sections": [
        "BwNAi0nJGn93",
        "9adCbtXnGn98"
      ]
    },
    "accelerator": "GPU"
  },
  "nbformat": 4,
  "nbformat_minor": 0
}