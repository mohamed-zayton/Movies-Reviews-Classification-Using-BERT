{
  "cells": [
    {
      "cell_type": "code",
      "execution_count": 1,
      "metadata": {
        "id": "29mx8NFBGn9y"
      },
      "outputs": [],
      "source": [
        "import pandas as pd\n",
        "from sklearn.model_selection import train_test_split\n",
        "from transformers import BertTokenizer, BertModel\n",
        "import nltk\n",
        "from nltk.tokenize import word_tokenize\n",
        "from nltk.tokenize import RegexpTokenizer\n",
        "from nltk.stem import WordNetLemmatizer\n",
        "from nltk.corpus import stopwords\n",
        "import torch\n",
        "from tqdm import tqdm\n",
        "import torch.nn as nn"
      ]
    },
    {
      "cell_type": "code",
      "source": [
        "from google.colab import drive\n",
        "drive.mount('/content/drive')"
      ],
      "metadata": {
        "colab": {
          "base_uri": "https://localhost:8080/"
        },
        "id": "YO7rJsKIGvfI",
        "outputId": "c7008326-4612-4681-9e73-463b8cad3eeb"
      },
      "execution_count": 2,
      "outputs": [
        {
          "output_type": "stream",
          "name": "stdout",
          "text": [
            "Drive already mounted at /content/drive; to attempt to forcibly remount, call drive.mount(\"/content/drive\", force_remount=True).\n"
          ]
        }
      ]
    },
    {
      "cell_type": "markdown",
      "metadata": {
        "id": "BwNAi0nJGn93"
      },
      "source": [
        "# 1.Data Split"
      ]
    },
    {
      "cell_type": "code",
      "execution_count": 3,
      "metadata": {
        "id": "IJWbL1m5Gn94"
      },
      "outputs": [],
      "source": [
        "PATH = '/content/drive/MyDrive/PR/data/'"
      ]
    },
    {
      "cell_type": "code",
      "source": [
        "df = pd.read_csv(PATH + 'IMDB Dataset.csv')\n",
        "df.head()"
      ],
      "metadata": {
        "colab": {
          "base_uri": "https://localhost:8080/",
          "height": 206
        },
        "id": "2BSrQXsewWVu",
        "outputId": "19bff38c-081b-4d51-c150-47b593379ad2"
      },
      "execution_count": 4,
      "outputs": [
        {
          "output_type": "execute_result",
          "data": {
            "text/plain": [
              "                                              review sentiment\n",
              "0  One of the other reviewers has mentioned that ...  positive\n",
              "1  A wonderful little production. <br /><br />The...  positive\n",
              "2  I thought this was a wonderful way to spend ti...  positive\n",
              "3  Basically there's a family where a little boy ...  negative\n",
              "4  Petter Mattei's \"Love in the Time of Money\" is...  positive"
            ],
            "text/html": [
              "\n",
              "  <div id=\"df-647b82a0-3a43-4444-8144-7cd49372a0c5\">\n",
              "    <div class=\"colab-df-container\">\n",
              "      <div>\n",
              "<style scoped>\n",
              "    .dataframe tbody tr th:only-of-type {\n",
              "        vertical-align: middle;\n",
              "    }\n",
              "\n",
              "    .dataframe tbody tr th {\n",
              "        vertical-align: top;\n",
              "    }\n",
              "\n",
              "    .dataframe thead th {\n",
              "        text-align: right;\n",
              "    }\n",
              "</style>\n",
              "<table border=\"1\" class=\"dataframe\">\n",
              "  <thead>\n",
              "    <tr style=\"text-align: right;\">\n",
              "      <th></th>\n",
              "      <th>review</th>\n",
              "      <th>sentiment</th>\n",
              "    </tr>\n",
              "  </thead>\n",
              "  <tbody>\n",
              "    <tr>\n",
              "      <th>0</th>\n",
              "      <td>One of the other reviewers has mentioned that ...</td>\n",
              "      <td>positive</td>\n",
              "    </tr>\n",
              "    <tr>\n",
              "      <th>1</th>\n",
              "      <td>A wonderful little production. &lt;br /&gt;&lt;br /&gt;The...</td>\n",
              "      <td>positive</td>\n",
              "    </tr>\n",
              "    <tr>\n",
              "      <th>2</th>\n",
              "      <td>I thought this was a wonderful way to spend ti...</td>\n",
              "      <td>positive</td>\n",
              "    </tr>\n",
              "    <tr>\n",
              "      <th>3</th>\n",
              "      <td>Basically there's a family where a little boy ...</td>\n",
              "      <td>negative</td>\n",
              "    </tr>\n",
              "    <tr>\n",
              "      <th>4</th>\n",
              "      <td>Petter Mattei's \"Love in the Time of Money\" is...</td>\n",
              "      <td>positive</td>\n",
              "    </tr>\n",
              "  </tbody>\n",
              "</table>\n",
              "</div>\n",
              "      <button class=\"colab-df-convert\" onclick=\"convertToInteractive('df-647b82a0-3a43-4444-8144-7cd49372a0c5')\"\n",
              "              title=\"Convert this dataframe to an interactive table.\"\n",
              "              style=\"display:none;\">\n",
              "        \n",
              "  <svg xmlns=\"http://www.w3.org/2000/svg\" height=\"24px\"viewBox=\"0 0 24 24\"\n",
              "       width=\"24px\">\n",
              "    <path d=\"M0 0h24v24H0V0z\" fill=\"none\"/>\n",
              "    <path d=\"M18.56 5.44l.94 2.06.94-2.06 2.06-.94-2.06-.94-.94-2.06-.94 2.06-2.06.94zm-11 1L8.5 8.5l.94-2.06 2.06-.94-2.06-.94L8.5 2.5l-.94 2.06-2.06.94zm10 10l.94 2.06.94-2.06 2.06-.94-2.06-.94-.94-2.06-.94 2.06-2.06.94z\"/><path d=\"M17.41 7.96l-1.37-1.37c-.4-.4-.92-.59-1.43-.59-.52 0-1.04.2-1.43.59L10.3 9.45l-7.72 7.72c-.78.78-.78 2.05 0 2.83L4 21.41c.39.39.9.59 1.41.59.51 0 1.02-.2 1.41-.59l7.78-7.78 2.81-2.81c.8-.78.8-2.07 0-2.86zM5.41 20L4 18.59l7.72-7.72 1.47 1.35L5.41 20z\"/>\n",
              "  </svg>\n",
              "      </button>\n",
              "      \n",
              "  <style>\n",
              "    .colab-df-container {\n",
              "      display:flex;\n",
              "      flex-wrap:wrap;\n",
              "      gap: 12px;\n",
              "    }\n",
              "\n",
              "    .colab-df-convert {\n",
              "      background-color: #E8F0FE;\n",
              "      border: none;\n",
              "      border-radius: 50%;\n",
              "      cursor: pointer;\n",
              "      display: none;\n",
              "      fill: #1967D2;\n",
              "      height: 32px;\n",
              "      padding: 0 0 0 0;\n",
              "      width: 32px;\n",
              "    }\n",
              "\n",
              "    .colab-df-convert:hover {\n",
              "      background-color: #E2EBFA;\n",
              "      box-shadow: 0px 1px 2px rgba(60, 64, 67, 0.3), 0px 1px 3px 1px rgba(60, 64, 67, 0.15);\n",
              "      fill: #174EA6;\n",
              "    }\n",
              "\n",
              "    [theme=dark] .colab-df-convert {\n",
              "      background-color: #3B4455;\n",
              "      fill: #D2E3FC;\n",
              "    }\n",
              "\n",
              "    [theme=dark] .colab-df-convert:hover {\n",
              "      background-color: #434B5C;\n",
              "      box-shadow: 0px 1px 3px 1px rgba(0, 0, 0, 0.15);\n",
              "      filter: drop-shadow(0px 1px 2px rgba(0, 0, 0, 0.3));\n",
              "      fill: #FFFFFF;\n",
              "    }\n",
              "  </style>\n",
              "\n",
              "      <script>\n",
              "        const buttonEl =\n",
              "          document.querySelector('#df-647b82a0-3a43-4444-8144-7cd49372a0c5 button.colab-df-convert');\n",
              "        buttonEl.style.display =\n",
              "          google.colab.kernel.accessAllowed ? 'block' : 'none';\n",
              "\n",
              "        async function convertToInteractive(key) {\n",
              "          const element = document.querySelector('#df-647b82a0-3a43-4444-8144-7cd49372a0c5');\n",
              "          const dataTable =\n",
              "            await google.colab.kernel.invokeFunction('convertToInteractive',\n",
              "                                                     [key], {});\n",
              "          if (!dataTable) return;\n",
              "\n",
              "          const docLinkHtml = 'Like what you see? Visit the ' +\n",
              "            '<a target=\"_blank\" href=https://colab.research.google.com/notebooks/data_table.ipynb>data table notebook</a>'\n",
              "            + ' to learn more about interactive tables.';\n",
              "          element.innerHTML = '';\n",
              "          dataTable['output_type'] = 'display_data';\n",
              "          await google.colab.output.renderOutput(dataTable, element);\n",
              "          const docLink = document.createElement('div');\n",
              "          docLink.innerHTML = docLinkHtml;\n",
              "          element.appendChild(docLink);\n",
              "        }\n",
              "      </script>\n",
              "    </div>\n",
              "  </div>\n",
              "  "
            ]
          },
          "metadata": {},
          "execution_count": 4
        }
      ]
    },
    {
      "cell_type": "code",
      "execution_count": 5,
      "metadata": {
        "id": "Lc7X05J5Gn96",
        "colab": {
          "base_uri": "https://localhost:8080/",
          "height": 331
        },
        "outputId": "9b9fb6f1-6233-4461-c726-89bfbc2d08dd"
      },
      "outputs": [
        {
          "output_type": "execute_result",
          "data": {
            "text/plain": [
              "<matplotlib.axes._subplots.AxesSubplot at 0x7f61c0fffe10>"
            ]
          },
          "metadata": {},
          "execution_count": 5
        },
        {
          "output_type": "display_data",
          "data": {
            "text/plain": [
              "<Figure size 432x288 with 1 Axes>"
            ],
            "image/png": "[encoded data removed]"
          },
          "metadata": {
            "needs_background": "light"
          }
        }
      ],
      "source": [
        "df.groupby(['sentiment']).size().plot.bar()\n"
      ]
    },
    {
      "cell_type": "code",
      "execution_count": 6,
      "metadata": {
        "id": "IAuSGNlEGn96"
      },
      "outputs": [],
      "source": [
        "labels = {'positive' : 0,\n",
        "         'negative' : 1}"
      ]
    },
    {
      "cell_type": "code",
      "execution_count": 7,
      "metadata": {
        "id": "S2dnBu1DGn97"
      },
      "outputs": [],
      "source": [
        "df_train_val, df_test = train_test_split(df, test_size=0.2, random_state=42, stratify=df['sentiment'])"
      ]
    },
    {
      "cell_type": "code",
      "execution_count": 8,
      "metadata": {
        "id": "fu5G1LjOGn97"
      },
      "outputs": [],
      "source": [
        "df_train, df_val = train_test_split(df_train_val, test_size=0.1, random_state=42, stratify=df_train_val['sentiment'])"
      ]
    },
    {
      "cell_type": "markdown",
      "metadata": {
        "id": "9adCbtXnGn98"
      },
      "source": [
        "# 2.Text Pre-processing\n"
      ]
    },
    {
      "cell_type": "code",
      "execution_count": 9,
      "metadata": {
        "id": "JYVI2znyGn99",
        "colab": {
          "base_uri": "https://localhost:8080/"
        },
        "outputId": "052ff469-f2a4-4ba6-e416-7b04d89a93d8"
      },
      "outputs": [
        {
          "output_type": "execute_result",
          "data": {
            "text/plain": [
              "device(type='cuda')"
            ]
          },
          "metadata": {},
          "execution_count": 9
        }
      ],
      "source": [
        "BATCH_SIZE = 16\n",
        "EPOCHS  = 2\n",
        "NUM_WORKERS = 2\n",
        "use_cuda = torch.cuda.is_available()\n",
        "DEVICE = torch.device(\"cuda\" if use_cuda else \"cpu\")\n",
        "DEVICE"
      ]
    },
    {
      "cell_type": "code",
      "source": [
        "# nltk.download('stopwords')\n",
        "# nltk.download('wordnet')"
      ],
      "metadata": {
        "id": "qs9AcPFkLO-r"
      },
      "execution_count": 10,
      "outputs": []
    },
    {
      "cell_type": "code",
      "execution_count": 11,
      "metadata": {
        "id": "e-UHC3HvGn99"
      },
      "outputs": [],
      "source": [
        "class Dataset(torch.utils.data.Dataset):\n",
        "    def __init__(self, df):\n",
        "        self.df = df\n",
        "        self.lemmatizer = WordNetLemmatizer()\n",
        "        self.tokenizer = RegexpTokenizer(r'\\w+')\n",
        "        self.bert_tokenizer = BertTokenizer.from_pretrained('bert-base-cased')\n",
        "    def __len__(self):\n",
        "        return len(self.df)\n",
        "\n",
        "    def __getitem__(self, idx):\n",
        "        row = df.iloc[idx]\n",
        "        sentence = row['review']\n",
        "        y = labels[row['sentiment']]\n",
        "        sentence = sentence.lower()\n",
        "        tokens = self.tokenizer.tokenize(sentence)\n",
        "        filtered_words = [w for w in tokens if not w in stopwords.words('english')]\n",
        "        lemmaized = self.lemmatizer.lemmatize(\" \".join(filtered_words))\n",
        "        X = self.bert_tokenizer(lemmaized, padding='max_length', max_length = 512, truncation=True, return_tensors=\"pt\")\n",
        "        return X, y"
      ]
    },
    {
      "cell_type": "code",
      "execution_count": null,
      "metadata": {
        "id": "eVTWlrl5Gn9-"
      },
      "outputs": [],
      "source": [
        "train_dataset = Dataset(df_train)\n",
        "test_dataset = Dataset(df_test)\n",
        "val_dataset = Dataset(df_val)"
      ]
    },
    {
      "cell_type": "code",
      "execution_count": null,
      "metadata": {
        "id": "l4MABXCpGn9-"
      },
      "outputs": [],
      "source": [
        "train_dataloader = torch.utils.data.DataLoader(train_dataset, batch_size=BATCH_SIZE, shuffle=True, num_workers=NUM_WORKERS)\n",
        "val_dataloader = torch.utils.data.DataLoader(val_dataset, batch_size=BATCH_SIZE, num_workers=NUM_WORKERS)\n",
        "test_dataloader = torch.utils.data.DataLoader(test_dataset, batch_size=BATCH_SIZE, num_workers=NUM_WORKERS)"
      ]
    },
    {
      "cell_type": "code",
      "execution_count": null,
      "metadata": {
        "id": "7-3ThMxnGn9_"
      },
      "outputs": [],
      "source": [
        "len(train_dataloader)"
      ]
    },
    {
      "cell_type": "markdown",
      "metadata": {
        "id": "ji90plBrGn-A"
      },
      "source": [
        "# 3.Classification using BERT"
      ]
    },
    {
      "cell_type": "code",
      "execution_count": null,
      "metadata": {
        "id": "QcSFwC7EGn-A"
      },
      "outputs": [],
      "source": [
        "class BertClassifier(nn.Module):\n",
        "  def __init__(self, h1, h2, h3, h4, dropout=0.5, ):\n",
        "    super(BertClassifier, self).__init__()\n",
        "    self.bert = BertModel.from_pretrained('bert-base-cased', num_labels = 2, )\n",
        "    self.dropout = nn.Dropout(dropout)\n",
        "    self.l1 = nn.Linear(768, h1)\n",
        "    self.l2 = nn.Linear(h1, h2)\n",
        "    self.l3 = nn.Linear(h2, h3)\n",
        "    self.l4 = nn.Linear(h3, h4)\n",
        "    self.output = nn.Linear(h4, 1)\n",
        "\n",
        "  def forward(self, input_id, mask):\n",
        "    _, pooled_output = self.bert(input_ids= input_id, attention_mask=mask,return_dict=False)\n",
        "    x = self.dropout(pooled_output)\n",
        "    x = self.l1(x)\n",
        "    x = self.l2(x)\n",
        "    x = self.l3(x)\n",
        "    x = self.l4(x)\n",
        "    return nn.Sigmoid()(self.output(x))"
      ]
    },
    {
      "cell_type": "code",
      "execution_count": null,
      "metadata": {
        "id": "zfSICSDdGn-A"
      },
      "outputs": [],
      "source": [
        "def train(model, train_dataloader, val_dataloader, epochs, optimizer, criterion, device):\n",
        "  best_loss = float('inf')\n",
        "\n",
        "  for epoch_num in range(epochs):\n",
        "    total_acc_train = 0\n",
        "    total_loss_train = 0\n",
        "\n",
        "    for train_input, train_label in tqdm(train_dataloader):\n",
        "\n",
        "      train_label = train_label.to(device)\n",
        "      mask = train_input['attention_mask'].to(device)\n",
        "      input_id = train_input['input_ids'].squeeze(1).to(device)\n",
        "      output = model(input_id, mask)\n",
        "      batch_loss = criterion(output.reshape((BATCH_SIZE,)), train_label.to(torch.float32))\n",
        "      total_loss_train += batch_loss.item()\n",
        "      \n",
        "      acc = (output.argmax(dim=1) == train_label).sum().item()\n",
        "      total_acc_train += acc\n",
        "\n",
        "      model.zero_grad()\n",
        "      batch_loss.backward()\n",
        "      optimizer.step()\n",
        "    \n",
        "    total_acc_val = 0\n",
        "    total_loss_val = 0\n",
        "\n",
        "    with torch.no_grad():\n",
        "      for val_input, val_label in tqdm(val_dataloader):\n",
        "        val_label = val_label.to(device)\n",
        "        mask = val_input['attention_mask'].to(device)\n",
        "        input_id = val_input['input_ids'].squeeze(1).to(device)\n",
        "        output = model(input_id, mask)\n",
        "        batch_loss = criterion(output.reshape((BATCH_SIZE,)), val_label.to(torch.float32))\n",
        "        # Save Model\n",
        "        if best_loss > batch_loss:\n",
        "          best_loss = batch_loss\n",
        "          torch.save(model, PATH + 'model.pth')\n",
        "\n",
        "        total_loss_val += batch_loss.item()\n",
        "        \n",
        "        acc = (output.argmax(dim=1) == val_label).sum().item()\n",
        "        total_acc_val += acc\n",
        "          \n",
        "    print(f'Epochs: {epoch_num + 1} | Train Loss: {total_loss_train / len(df_train): .3f} | Train Accuracy: {total_acc_train / len(df_train): .3f} | Val Loss: {total_loss_val / len(df_val): .3f} | Val Accuracy: {total_acc_val / len(df_val): .3f}')"
      ]
    },
    {
      "cell_type": "code",
      "source": [
        "LR = 1e-3"
      ],
      "metadata": {
        "id": "EcchHzqDZ7Zk"
      },
      "execution_count": null,
      "outputs": []
    },
    {
      "cell_type": "code",
      "source": [
        "model = BertClassifier(512, 256, 128, 64)\n",
        "model = model.to(DEVICE)"
      ],
      "metadata": {
        "id": "wmPgyOXsZ3fK"
      },
      "execution_count": null,
      "outputs": []
    },
    {
      "cell_type": "code",
      "source": [
        "criterion = nn.BCELoss()\n",
        "optimizer = torch.optim.Adam(model.parameters(), lr= LR)"
      ],
      "metadata": {
        "id": "b7PSgFKgZZXG"
      },
      "execution_count": null,
      "outputs": []
    },
    {
      "cell_type": "code",
      "source": [
        "train(model, train_dataloader, val_dataloader, EPOCHS, optimizer, criterion, DEVICE)"
      ],
      "metadata": {
        "id": "aKwpkZ1zZnky"
      },
      "execution_count": null,
      "outputs": []
    },
    {
      "cell_type": "code",
      "source": [
        "# Load Model \n",
        "model = torch.load(PATH + 'model.pth')"
      ],
      "metadata": {
        "id": "4VqxuyIVgLV_"
      },
      "execution_count": null,
      "outputs": []
    },
    {
      "cell_type": "code",
      "source": [
        ""
      ],
      "metadata": {
        "id": "37KFbcGaZns0"
      },
      "execution_count": null,
      "outputs": []
    },
    {
      "cell_type": "code",
      "source": [
        ""
      ],
      "metadata": {
        "id": "f7bZQZAqZnx0"
      },
      "execution_count": null,
      "outputs": []
    },
    {
      "cell_type": "markdown",
      "metadata": {
        "id": "HQshG2SEGn-A"
      },
      "source": [
        "# 4.Validation and Hyperparameter Tuning"
      ]
    },
    {
      "cell_type": "code",
      "execution_count": null,
      "metadata": {
        "id": "3qX2QakfGn-A"
      },
      "outputs": [],
      "source": [
        ""
      ]
    },
    {
      "cell_type": "code",
      "execution_count": null,
      "metadata": {
        "id": "V5p9UVAwGn-A"
      },
      "outputs": [],
      "source": [
        ""
      ]
    },
    {
      "cell_type": "markdown",
      "metadata": {
        "id": "dvgAS0eIGn-B"
      },
      "source": [
        "# 5.Checking Pre-processing Importance"
      ]
    },
    {
      "cell_type": "code",
      "execution_count": null,
      "metadata": {
        "id": "X7oSPnlGGn-B"
      },
      "outputs": [],
      "source": [
        ""
      ]
    },
    {
      "cell_type": "code",
      "execution_count": null,
      "metadata": {
        "id": "gQOnqqSYGn-B"
      },
      "outputs": [],
      "source": [
        ""
      ]
    },
    {
      "cell_type": "code",
      "execution_count": null,
      "metadata": {
        "id": "CPTYbin5Gn-B"
      },
      "outputs": [],
      "source": [
        ""
      ]
    },
    {
      "cell_type": "markdown",
      "metadata": {
        "id": "J77E86iFGn-B"
      },
      "source": [
        "# 7.Bonus"
      ]
    },
    {
      "cell_type": "code",
      "execution_count": null,
      "metadata": {
        "id": "x4fBldJZGn-B"
      },
      "outputs": [],
      "source": [
        ""
      ]
    },
    {
      "cell_type": "code",
      "execution_count": null,
      "metadata": {
        "id": "Etf6tw5OGn-C"
      },
      "outputs": [],
      "source": [
        ""
      ]
    }
  ],
  "metadata": {
    "interpreter": {
      "hash": "c20b7c458658bee694630567ba3e0a0589b3365f748196e154460478b4d51f10"
    },
    "kernelspec": {
      "display_name": "Python 3.9.7 ('base')",
      "language": "python",
      "name": "python3"
    },
    "language_info": {
      "codemirror_mode": {
        "name": "ipython",
        "version": 3
      },
      "file_extension": ".py",
      "mimetype": "text/x-python",
      "name": "python",
      "nbconvert_exporter": "python",
      "pygments_lexer": "ipython3",
      "version": "3.9.7"
    },
    "orig_nbformat": 4,
    "colab": {
      "name": "model (1).ipynb",
      "provenance": [],
      "collapsed_sections": []
    },
    "accelerator": "GPU"
  },
  "nbformat": 4,
  "nbformat_minor": 0
}